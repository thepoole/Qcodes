{
 "cells": [
  {
   "cell_type": "markdown",
   "id": "plain-primary",
   "metadata": {},
   "source": [
    "# Qcodes example with DelegateInstrument driver\n",
    "\n",
    "This notebooks explains how to use the `DelegateInstrument` driver.\n",
    "\n",
    "## About\n",
    "The goal of the `DelegateInstrument` driver is to make it easier to combine different parameters together into a new \"virtual\" instrument. Each parameter on a `DelegateInstrument` can point to one or more parameters on other instruments in the station.\n",
    "\n",
    "## Usage\n",
    "The way it's used is mainly by specifying an entry in the station YAML. For instance, let's say you want to use a magnetic field coil. The driver has a method set_field(value, block), that by default is set to block=True, which means the field is ramped in a way that blocks further execution until the desired value is reached. However, let's say you are creating a measurement in which you want the parameter to be set, and while the value is ramping, you want to measure other parameters. This can be done by using `DelegateInstrument` and specifying a custom `setter` for the parameter that gets and sets the magnetic field.\n",
    "\n",
    "By default, each parameter is represented by a `DelegateParameter`. The `DelegateInstrument` also supports passing multiple source parameters to a given parameter. In order to do this, simply specify multiple parameters in the dictionary values  under the `parameters` key.\n",
    "\n",
    "It can also add instrument channels, specified under a separate key `channels`, shown in the second half of the notebook."
   ]
  },
  {
   "cell_type": "code",
   "execution_count": 1,
   "id": "sapphire-quebec",
   "metadata": {
    "execution": {
     "iopub.execute_input": "2021-11-23T17:54:25.303872Z",
     "iopub.status.busy": "2021-11-23T17:54:25.302080Z",
     "iopub.status.idle": "2021-11-23T17:54:25.306763Z",
     "shell.execute_reply": "2021-11-23T17:54:25.307266Z"
    }
   },
   "outputs": [
    {
     "name": "stdout",
     "output_type": "stream",
     "text": [
      "Writing example.yaml\n"
     ]
    }
   ],
   "source": [
    "%%writefile example.yaml\n",
    "\n",
    "instruments:\n",
    "  field_X:\n",
    "    type: qcodes.tests.instrument_mocks.MockField\n",
    "\n",
    "  field:\n",
    "    type: qcodes.instrument.delegate.DelegateInstrument\n",
    "    init:\n",
    "      parameters:\n",
    "        X:\n",
    "          - field_X.field\n",
    "        ramp_rate:\n",
    "          - field_X.ramp_rate\n",
    "        combined:\n",
    "          - field_X.field\n",
    "          - field_X.ramp_rate\n",
    "      set_initial_values_on_load: true\n",
    "      initial_values:\n",
    "        ramp_rate: 1.0\n",
    "      setters:\n",
    "        X:\n",
    "          method: field_X.set_field\n",
    "          block: false"
   ]
  },
  {
   "cell_type": "code",
   "execution_count": 2,
   "id": "younger-newspaper",
   "metadata": {
    "execution": {
     "iopub.execute_input": "2021-11-23T17:54:25.310962Z",
     "iopub.status.busy": "2021-11-23T17:54:25.310451Z",
     "iopub.status.idle": "2021-11-23T17:54:27.170577Z",
     "shell.execute_reply": "2021-11-23T17:54:27.169941Z"
    }
   },
   "outputs": [
    {
     "name": "stdout",
     "output_type": "stream",
     "text": [
      "Logging hadn't been started.\n",
      "Activating auto-logging. Current session state plus future input saved.\n",
      "Filename       : /home/runner/.qcodes/logs/command_history.log\n",
      "Mode           : append\n",
      "Output logging : True\n",
      "Raw input log  : False\n",
      "Timestamping   : True\n",
      "State          : active\n"
     ]
    },
    {
     "name": "stdout",
     "output_type": "stream",
     "text": [
      "Qcodes Logfile : /home/runner/.qcodes/logs/211123-10233-qcodes.log\n"
     ]
    }
   ],
   "source": [
    "import qcodes as qc"
   ]
  },
  {
   "cell_type": "code",
   "execution_count": 3,
   "id": "muslim-briefs",
   "metadata": {
    "execution": {
     "iopub.execute_input": "2021-11-23T17:54:27.196437Z",
     "iopub.status.busy": "2021-11-23T17:54:27.174618Z",
     "iopub.status.idle": "2021-11-23T17:54:27.198481Z",
     "shell.execute_reply": "2021-11-23T17:54:27.198056Z"
    }
   },
   "outputs": [],
   "source": [
    "station = qc.Station(config_file=\"example.yaml\")"
   ]
  },
  {
   "cell_type": "code",
   "execution_count": 4,
   "id": "greatest-antenna",
   "metadata": {
    "execution": {
     "iopub.execute_input": "2021-11-23T17:54:27.208007Z",
     "iopub.status.busy": "2021-11-23T17:54:27.201527Z",
     "iopub.status.idle": "2021-11-23T17:54:27.245408Z",
     "shell.execute_reply": "2021-11-23T17:54:27.244831Z"
    }
   },
   "outputs": [],
   "source": [
    "field_X = station.load_field_X()\n",
    "field = station.load_field(station=station)"
   ]
  },
  {
   "cell_type": "code",
   "execution_count": 5,
   "id": "every-playing",
   "metadata": {
    "execution": {
     "iopub.execute_input": "2021-11-23T17:54:27.251929Z",
     "iopub.status.busy": "2021-11-23T17:54:27.251444Z",
     "iopub.status.idle": "2021-11-23T17:54:27.254312Z",
     "shell.execute_reply": "2021-11-23T17:54:27.254783Z"
    }
   },
   "outputs": [
    {
     "data": {
      "text/plain": [
       "0.0"
      ]
     },
     "execution_count": 5,
     "metadata": {},
     "output_type": "execute_result"
    }
   ],
   "source": [
    "field.X()"
   ]
  },
  {
   "cell_type": "code",
   "execution_count": 6,
   "id": "undefined-worst",
   "metadata": {
    "execution": {
     "iopub.execute_input": "2021-11-23T17:54:27.259350Z",
     "iopub.status.busy": "2021-11-23T17:54:27.258110Z",
     "iopub.status.idle": "2021-11-23T17:54:27.259896Z",
     "shell.execute_reply": "2021-11-23T17:54:27.260285Z"
    }
   },
   "outputs": [],
   "source": [
    "field.X(1.)"
   ]
  },
  {
   "cell_type": "code",
   "execution_count": 7,
   "id": "recreational-suggestion",
   "metadata": {
    "execution": {
     "iopub.execute_input": "2021-11-23T17:54:27.264597Z",
     "iopub.status.busy": "2021-11-23T17:54:27.264072Z",
     "iopub.status.idle": "2021-11-23T17:54:27.267179Z",
     "shell.execute_reply": "2021-11-23T17:54:27.267651Z"
    }
   },
   "outputs": [
    {
     "data": {
      "text/plain": [
       "8.765856424967448e-05"
      ]
     },
     "execution_count": 7,
     "metadata": {},
     "output_type": "execute_result"
    }
   ],
   "source": [
    "field.X()"
   ]
  },
  {
   "cell_type": "code",
   "execution_count": 8,
   "id": "adopted-exchange",
   "metadata": {
    "execution": {
     "iopub.execute_input": "2021-11-23T17:54:27.272324Z",
     "iopub.status.busy": "2021-11-23T17:54:27.271900Z",
     "iopub.status.idle": "2021-11-23T17:54:27.274513Z",
     "shell.execute_reply": "2021-11-23T17:54:27.275002Z"
    }
   },
   "outputs": [
    {
     "data": {
      "text/plain": [
       "0.00021544297536214193"
      ]
     },
     "execution_count": 8,
     "metadata": {},
     "output_type": "execute_result"
    }
   ],
   "source": [
    "field.X()"
   ]
  },
  {
   "cell_type": "code",
   "execution_count": 9,
   "id": "bound-broadcasting",
   "metadata": {
    "execution": {
     "iopub.execute_input": "2021-11-23T17:54:27.279233Z",
     "iopub.status.busy": "2021-11-23T17:54:27.278750Z",
     "iopub.status.idle": "2021-11-23T17:54:27.281365Z",
     "shell.execute_reply": "2021-11-23T17:54:27.281691Z"
    }
   },
   "outputs": [
    {
     "data": {
      "text/plain": [
       "0.000332490603129069"
      ]
     },
     "execution_count": 9,
     "metadata": {},
     "output_type": "execute_result"
    }
   ],
   "source": [
    "field.X()"
   ]
  },
  {
   "cell_type": "code",
   "execution_count": 10,
   "id": "casual-ghost",
   "metadata": {
    "execution": {
     "iopub.execute_input": "2021-11-23T17:54:27.286689Z",
     "iopub.status.busy": "2021-11-23T17:54:27.285475Z",
     "iopub.status.idle": "2021-11-23T17:54:27.288985Z",
     "shell.execute_reply": "2021-11-23T17:54:27.288523Z"
    }
   },
   "outputs": [
    {
     "data": {
      "text/plain": [
       "0.0004417737325032552"
      ]
     },
     "execution_count": 10,
     "metadata": {},
     "output_type": "execute_result"
    }
   ],
   "source": [
    "field.X()"
   ]
  },
  {
   "cell_type": "markdown",
   "id": "alike-process",
   "metadata": {},
   "source": [
    "As you can see, the field is now ramped in the background with the specified ramp rate. Now, let's try to create a measurement that uses this ability, and ramps the field in the background while measuring:"
   ]
  },
  {
   "cell_type": "code",
   "execution_count": 11,
   "id": "sustained-tiger",
   "metadata": {
    "execution": {
     "iopub.execute_input": "2021-11-23T17:54:27.292677Z",
     "iopub.status.busy": "2021-11-23T17:54:27.292160Z",
     "iopub.status.idle": "2021-11-23T17:54:27.297924Z",
     "shell.execute_reply": "2021-11-23T17:54:27.297454Z"
    }
   },
   "outputs": [],
   "source": [
    "field.ramp_rate(10.)\n",
    "field_X.field(0.0)"
   ]
  },
  {
   "cell_type": "code",
   "execution_count": 12,
   "id": "pharmaceutical-partition",
   "metadata": {
    "execution": {
     "iopub.execute_input": "2021-11-23T17:54:27.303220Z",
     "iopub.status.busy": "2021-11-23T17:54:27.302239Z",
     "iopub.status.idle": "2021-11-23T17:54:27.305737Z",
     "shell.execute_reply": "2021-11-23T17:54:27.305235Z"
    }
   },
   "outputs": [
    {
     "data": {
      "text/plain": [
       "0.0"
      ]
     },
     "execution_count": 12,
     "metadata": {},
     "output_type": "execute_result"
    }
   ],
   "source": [
    "field.X()"
   ]
  },
  {
   "cell_type": "code",
   "execution_count": 13,
   "id": "happy-ordinance",
   "metadata": {
    "execution": {
     "iopub.execute_input": "2021-11-23T17:54:27.310792Z",
     "iopub.status.busy": "2021-11-23T17:54:27.310256Z",
     "iopub.status.idle": "2021-11-23T17:54:28.543129Z",
     "shell.execute_reply": "2021-11-23T17:54:28.542590Z"
    }
   },
   "outputs": [
    {
     "name": "stdout",
     "output_type": "stream",
     "text": [
      "Starting experimental run with id: 60. \n"
     ]
    }
   ],
   "source": [
    "import time\n",
    "meas = qc.Measurement(station=station)\n",
    "meas.register_parameter(field.X)\n",
    "\n",
    "with meas.run() as datasaver:\n",
    "    for B in [0.1, 0.0]:\n",
    "        field.X(B)\n",
    "        while field.X() != B:\n",
    "            datasaver.add_result((field.X, field.X()))\n",
    "            time.sleep(0.01)\n",
    "    datasaver.flush_data_to_database()"
   ]
  },
  {
   "cell_type": "code",
   "execution_count": 14,
   "id": "short-medium",
   "metadata": {
    "execution": {
     "iopub.execute_input": "2021-11-23T17:54:28.547063Z",
     "iopub.status.busy": "2021-11-23T17:54:28.546458Z",
     "iopub.status.idle": "2021-11-23T17:54:28.686374Z",
     "shell.execute_reply": "2021-11-23T17:54:28.686925Z"
    }
   },
   "outputs": [
    {
     "data": {
      "text/plain": [
       "<AxesSubplot:>"
      ]
     },
     "execution_count": 14,
     "metadata": {},
     "output_type": "execute_result"
    },
    {
     "data": {
      "image/png": "[encoded data removed]",
      "text/plain": [
       "<Figure size 432x288 with 1 Axes>"
      ]
     },
     "metadata": {
      "needs_background": "light"
     },
     "output_type": "display_data"
    }
   ],
   "source": [
    "datasaver.dataset.to_pandas_dataframe().plot()"
   ]
  },
  {
   "cell_type": "markdown",
   "id": "incomplete-vietnamese",
   "metadata": {},
   "source": [
    "When specifying multiple source parameters on a given parameter, the grouped parameter will automatically return a `namedtuple` that returns both values."
   ]
  },
  {
   "cell_type": "code",
   "execution_count": 15,
   "id": "dangerous-finder",
   "metadata": {
    "execution": {
     "iopub.execute_input": "2021-11-23T17:54:28.690230Z",
     "iopub.status.busy": "2021-11-23T17:54:28.689342Z",
     "iopub.status.idle": "2021-11-23T17:54:28.695814Z",
     "shell.execute_reply": "2021-11-23T17:54:28.696529Z"
    }
   },
   "outputs": [
    {
     "data": {
      "text/plain": [
       "combined(field=0.0, ramp_rate=10.0)"
      ]
     },
     "execution_count": 15,
     "metadata": {},
     "output_type": "execute_result"
    }
   ],
   "source": [
    "field.combined()"
   ]
  },
  {
   "cell_type": "markdown",
   "id": "consolidated-cooper",
   "metadata": {},
   "source": [
    "We can now also create a custom parameter that does a simple calculation based on the current parameters."
   ]
  },
  {
   "cell_type": "code",
   "execution_count": 16,
   "id": "designed-bloom",
   "metadata": {
    "execution": {
     "iopub.execute_input": "2021-11-23T17:54:28.699567Z",
     "iopub.status.busy": "2021-11-23T17:54:28.698570Z",
     "iopub.status.idle": "2021-11-23T17:54:28.705098Z",
     "shell.execute_reply": "2021-11-23T17:54:28.704596Z"
    }
   },
   "outputs": [],
   "source": [
    "import numpy as np\n",
    "\n",
    "def calculate_ramp_time(X, ramp_rate):\n",
    "    \"\"\"Calculate ramp time in seconds\"\"\"\n",
    "    dfield = np.abs(field.target_field - X)\n",
    "    return 60. * dfield/ramp_rate"
   ]
  },
  {
   "cell_type": "code",
   "execution_count": 17,
   "id": "disabled-logic",
   "metadata": {
    "execution": {
     "iopub.execute_input": "2021-11-23T17:54:28.709230Z",
     "iopub.status.busy": "2021-11-23T17:54:28.708697Z",
     "iopub.status.idle": "2021-11-23T17:54:28.711669Z",
     "shell.execute_reply": "2021-11-23T17:54:28.712112Z"
    },
    "scrolled": true
   },
   "outputs": [],
   "source": [
    "field._create_and_add_parameter(\n",
    "    group_name=\"ramp_time\",\n",
    "    station=station,\n",
    "    paths=[\"field_X.field\", \"field_X.ramp_rate\"],\n",
    "    formatter=calculate_ramp_time\n",
    ")"
   ]
  },
  {
   "cell_type": "code",
   "execution_count": 18,
   "id": "adverse-february",
   "metadata": {
    "execution": {
     "iopub.execute_input": "2021-11-23T17:54:28.716537Z",
     "iopub.status.busy": "2021-11-23T17:54:28.716045Z",
     "iopub.status.idle": "2021-11-23T17:54:28.721502Z",
     "shell.execute_reply": "2021-11-23T17:54:28.720799Z"
    }
   },
   "outputs": [
    {
     "data": {
      "text/plain": [
       "6.0"
      ]
     },
     "execution_count": 18,
     "metadata": {},
     "output_type": "execute_result"
    }
   ],
   "source": [
    "field.ramp_rate(1.0)\n",
    "field.target_field = 0.1\n",
    "field.ramp_time()"
   ]
  },
  {
   "cell_type": "code",
   "execution_count": 19,
   "id": "statutory-xerox",
   "metadata": {
    "execution": {
     "iopub.execute_input": "2021-11-23T17:54:28.725323Z",
     "iopub.status.busy": "2021-11-23T17:54:28.724681Z",
     "iopub.status.idle": "2021-11-23T17:54:28.728262Z",
     "shell.execute_reply": "2021-11-23T17:54:28.727578Z"
    }
   },
   "outputs": [],
   "source": [
    "field.X(0.1)"
   ]
  },
  {
   "cell_type": "code",
   "execution_count": 20,
   "id": "varying-auditor",
   "metadata": {
    "execution": {
     "iopub.execute_input": "2021-11-23T17:54:28.732973Z",
     "iopub.status.busy": "2021-11-23T17:54:28.730484Z",
     "iopub.status.idle": "2021-11-23T17:54:28.738233Z",
     "shell.execute_reply": "2021-11-23T17:54:28.737408Z"
    }
   },
   "outputs": [
    {
     "data": {
      "text/plain": [
       "5.992250680923462"
      ]
     },
     "execution_count": 20,
     "metadata": {},
     "output_type": "execute_result"
    }
   ],
   "source": [
    "field.ramp_time()"
   ]
  },
  {
   "cell_type": "code",
   "execution_count": 21,
   "id": "chubby-nickel",
   "metadata": {
    "execution": {
     "iopub.execute_input": "2021-11-23T17:54:28.742351Z",
     "iopub.status.busy": "2021-11-23T17:54:28.740387Z",
     "iopub.status.idle": "2021-11-23T17:54:29.749764Z",
     "shell.execute_reply": "2021-11-23T17:54:29.750144Z"
    }
   },
   "outputs": [
    {
     "data": {
      "text/plain": [
       "4.980730056762696"
      ]
     },
     "execution_count": 21,
     "metadata": {},
     "output_type": "execute_result"
    }
   ],
   "source": [
    "import time\n",
    "time.sleep(1.)\n",
    "field.ramp_time()"
   ]
  },
  {
   "cell_type": "code",
   "execution_count": 22,
   "id": "italian-liberty",
   "metadata": {
    "execution": {
     "iopub.execute_input": "2021-11-23T17:54:29.754598Z",
     "iopub.status.busy": "2021-11-23T17:54:29.754075Z",
     "iopub.status.idle": "2021-11-23T17:54:30.762335Z",
     "shell.execute_reply": "2021-11-23T17:54:30.761835Z"
    }
   },
   "outputs": [
    {
     "data": {
      "text/plain": [
       "3.969133138656617"
      ]
     },
     "execution_count": 22,
     "metadata": {},
     "output_type": "execute_result"
    }
   ],
   "source": [
    "import time\n",
    "time.sleep(1.)\n",
    "field.ramp_time()"
   ]
  },
  {
   "cell_type": "markdown",
   "id": "5f53ae15",
   "metadata": {},
   "source": [
    "# Devices with channels"
   ]
  },
  {
   "cell_type": "markdown",
   "id": "f9a05ebb",
   "metadata": {},
   "source": [
    "The YAML file below specifies the instruments with the channels/parameters we wish to group into a new instrument, here called \"device\". The first example simply adds the channel 'as is' using self.add_submodule, while the readout parameter is added as a DelegateParameter."
   ]
  },
  {
   "cell_type": "code",
   "execution_count": 23,
   "id": "06c5e5b8",
   "metadata": {
    "execution": {
     "iopub.execute_input": "2021-11-23T17:54:30.767987Z",
     "iopub.status.busy": "2021-11-23T17:54:30.767382Z",
     "iopub.status.idle": "2021-11-23T17:54:30.770748Z",
     "shell.execute_reply": "2021-11-23T17:54:30.771255Z"
    }
   },
   "outputs": [
    {
     "name": "stdout",
     "output_type": "stream",
     "text": [
      "Overwriting example.yaml\n"
     ]
    }
   ],
   "source": [
    "%%writefile example.yaml\n",
    "\n",
    "instruments:\n",
    "  lockin:\n",
    "    type: qcodes.tests.instrument_mocks.MockLockin\n",
    "\n",
    "  dac:\n",
    "    type: qcodes.tests.instrument_mocks.MockDAC   \n",
    "\n",
    "  device:\n",
    "    type: qcodes.instrument.delegate.DelegateInstrument\n",
    "    init:\n",
    "      parameters:\n",
    "        readout: lockin.X\n",
    "      channels:\n",
    "        gate_1: dac.ch01\n",
    "      set_initial_values_on_load: true\n",
    "      initial_values:\n",
    "        readout: 1e-5\n",
    "        gate_1.voltage.post_delay: 0.01"
   ]
  },
  {
   "cell_type": "code",
   "execution_count": 24,
   "id": "ba9e9288",
   "metadata": {
    "execution": {
     "iopub.execute_input": "2021-11-23T17:54:30.775273Z",
     "iopub.status.busy": "2021-11-23T17:54:30.774668Z",
     "iopub.status.idle": "2021-11-23T17:54:30.797261Z",
     "shell.execute_reply": "2021-11-23T17:54:30.796659Z"
    }
   },
   "outputs": [],
   "source": [
    "station = qc.Station(config_file=\"example.yaml\")"
   ]
  },
  {
   "cell_type": "code",
   "execution_count": 25,
   "id": "fa40b5cf",
   "metadata": {
    "execution": {
     "iopub.execute_input": "2021-11-23T17:54:30.801318Z",
     "iopub.status.busy": "2021-11-23T17:54:30.800779Z",
     "iopub.status.idle": "2021-11-23T17:54:30.865785Z",
     "shell.execute_reply": "2021-11-23T17:54:30.865216Z"
    }
   },
   "outputs": [],
   "source": [
    "lockin = station.load_lockin()\n",
    "dac = station.load_dac()\n",
    "device = station.load_device(station=station)"
   ]
  },
  {
   "cell_type": "code",
   "execution_count": 26,
   "id": "4617d808",
   "metadata": {
    "execution": {
     "iopub.execute_input": "2021-11-23T17:54:30.871556Z",
     "iopub.status.busy": "2021-11-23T17:54:30.870217Z",
     "iopub.status.idle": "2021-11-23T17:54:30.873651Z",
     "shell.execute_reply": "2021-11-23T17:54:30.873146Z"
    }
   },
   "outputs": [
    {
     "name": "stdout",
     "output_type": "stream",
     "text": [
      "<MockDACChannel: dac_ch01 of MockDAC: dac>\n",
      "0.01\n"
     ]
    }
   ],
   "source": [
    "print(device.gate_1)\n",
    "print(device.gate_1.voltage.post_delay)"
   ]
  },
  {
   "cell_type": "code",
   "execution_count": 27,
   "id": "7c9c9410",
   "metadata": {
    "execution": {
     "iopub.execute_input": "2021-11-23T17:54:30.877686Z",
     "iopub.status.busy": "2021-11-23T17:54:30.877129Z",
     "iopub.status.idle": "2021-11-23T17:54:30.891640Z",
     "shell.execute_reply": "2021-11-23T17:54:30.892074Z"
    }
   },
   "outputs": [
    {
     "name": "stdout",
     "output_type": "stream",
     "text": [
      "0.0\n"
     ]
    },
    {
     "data": {
      "text/plain": [
       "-0.6"
      ]
     },
     "execution_count": 27,
     "metadata": {},
     "output_type": "execute_result"
    }
   ],
   "source": [
    "print(device.gate_1.voltage())\n",
    "device.gate_1.voltage(-0.6)\n",
    "device.gate_1.voltage()"
   ]
  },
  {
   "cell_type": "markdown",
   "id": "b0706a57",
   "metadata": {},
   "source": [
    "The second example adds a channel using a custom channel class, which takes the initial channel and its name as input and has a parameter current_valid_ranges."
   ]
  },
  {
   "cell_type": "code",
   "execution_count": 28,
   "id": "49429e12",
   "metadata": {
    "execution": {
     "iopub.execute_input": "2021-11-23T17:54:30.897676Z",
     "iopub.status.busy": "2021-11-23T17:54:30.896664Z",
     "iopub.status.idle": "2021-11-23T17:54:30.899945Z",
     "shell.execute_reply": "2021-11-23T17:54:30.899474Z"
    }
   },
   "outputs": [
    {
     "name": "stdout",
     "output_type": "stream",
     "text": [
      "Overwriting example.yaml\n"
     ]
    }
   ],
   "source": [
    "%%writefile example.yaml\n",
    "\n",
    "instruments:\n",
    "  lockin:\n",
    "    type: qcodes.tests.instrument_mocks.MockLockin\n",
    "\n",
    "  dac:\n",
    "    type: qcodes.tests.instrument_mocks.MockDAC   \n",
    "\n",
    "  device:\n",
    "    type: qcodes.instrument.delegate.DelegateInstrument\n",
    "    init:\n",
    "      parameters:\n",
    "        readout: lockin.X\n",
    "      channels:\n",
    "        type: qcodes.tests.instrument_mocks.MockCustomChannel\n",
    "        gate_1: \n",
    "          channel: dac.ch01\n",
    "          current_valid_range: [-0.5, 0]\n",
    "      set_initial_values_on_load: true\n",
    "      initial_values:\n",
    "        readout: 1e-5"
   ]
  },
  {
   "cell_type": "code",
   "execution_count": 29,
   "id": "c1ca0786",
   "metadata": {
    "execution": {
     "iopub.execute_input": "2021-11-23T17:54:30.904854Z",
     "iopub.status.busy": "2021-11-23T17:54:30.903480Z",
     "iopub.status.idle": "2021-11-23T17:54:30.905518Z",
     "shell.execute_reply": "2021-11-23T17:54:30.905919Z"
    }
   },
   "outputs": [],
   "source": [
    "lockin.close()\n",
    "dac.close()"
   ]
  },
  {
   "cell_type": "code",
   "execution_count": 30,
   "id": "a9690d99",
   "metadata": {
    "execution": {
     "iopub.execute_input": "2021-11-23T17:54:30.909853Z",
     "iopub.status.busy": "2021-11-23T17:54:30.909268Z",
     "iopub.status.idle": "2021-11-23T17:54:30.981377Z",
     "shell.execute_reply": "2021-11-23T17:54:30.980762Z"
    }
   },
   "outputs": [],
   "source": [
    "station = qc.Station(config_file=\"example.yaml\")\n",
    "lockin = station.load_lockin()\n",
    "dac = station.load_dac()"
   ]
  },
  {
   "cell_type": "code",
   "execution_count": 31,
   "id": "12b7d0ee",
   "metadata": {
    "execution": {
     "iopub.execute_input": "2021-11-23T17:54:30.985489Z",
     "iopub.status.busy": "2021-11-23T17:54:30.984911Z",
     "iopub.status.idle": "2021-11-23T17:54:31.009946Z",
     "shell.execute_reply": "2021-11-23T17:54:31.009347Z"
    }
   },
   "outputs": [],
   "source": [
    "device = station.load_device(station=station)"
   ]
  },
  {
   "cell_type": "code",
   "execution_count": 32,
   "id": "7b96fb89",
   "metadata": {
    "execution": {
     "iopub.execute_input": "2021-11-23T17:54:31.014583Z",
     "iopub.status.busy": "2021-11-23T17:54:31.012992Z",
     "iopub.status.idle": "2021-11-23T17:54:31.017154Z",
     "shell.execute_reply": "2021-11-23T17:54:31.017590Z"
    }
   },
   "outputs": [
    {
     "data": {
      "text/plain": [
       "<MockCustomChannel: dac_gate_1 of MockDAC: dac>"
      ]
     },
     "execution_count": 32,
     "metadata": {},
     "output_type": "execute_result"
    }
   ],
   "source": [
    "device.gate_1"
   ]
  },
  {
   "cell_type": "code",
   "execution_count": 33,
   "id": "5dd558a0",
   "metadata": {
    "execution": {
     "iopub.execute_input": "2021-11-23T17:54:31.022099Z",
     "iopub.status.busy": "2021-11-23T17:54:31.020894Z",
     "iopub.status.idle": "2021-11-23T17:54:31.022778Z",
     "shell.execute_reply": "2021-11-23T17:54:31.023237Z"
    }
   },
   "outputs": [],
   "source": [
    "device.gate_1.voltage(-0.3)"
   ]
  },
  {
   "cell_type": "code",
   "execution_count": 34,
   "id": "ba04858e",
   "metadata": {
    "execution": {
     "iopub.execute_input": "2021-11-23T17:54:31.028982Z",
     "iopub.status.busy": "2021-11-23T17:54:31.027823Z",
     "iopub.status.idle": "2021-11-23T17:54:31.031571Z",
     "shell.execute_reply": "2021-11-23T17:54:31.031062Z"
    }
   },
   "outputs": [
    {
     "data": {
      "text/plain": [
       "-0.3"
      ]
     },
     "execution_count": 34,
     "metadata": {},
     "output_type": "execute_result"
    }
   ],
   "source": [
    "device.gate_1.voltage()"
   ]
  },
  {
   "cell_type": "markdown",
   "id": "2d27064e",
   "metadata": {},
   "source": [
    "The MockCustomChannel has a parameter `current_valid_range`."
   ]
  },
  {
   "cell_type": "code",
   "execution_count": 35,
   "id": "b1ad987b",
   "metadata": {
    "execution": {
     "iopub.execute_input": "2021-11-23T17:54:31.037357Z",
     "iopub.status.busy": "2021-11-23T17:54:31.036322Z",
     "iopub.status.idle": "2021-11-23T17:54:31.039981Z",
     "shell.execute_reply": "2021-11-23T17:54:31.039499Z"
    }
   },
   "outputs": [
    {
     "data": {
      "text/plain": [
       "[-0.5, 0]"
      ]
     },
     "execution_count": 35,
     "metadata": {},
     "output_type": "execute_result"
    }
   ],
   "source": [
    "device.gate_1.current_valid_range()"
   ]
  }
 ],
 "metadata": {
  "kernelspec": {
   "display_name": "Python 3.7.9 64-bit ('qcodes_fork': conda)",
   "name": "python379jvsc74a57bd02b540bc2d5f6bd8c1d4c354bd6559a26f5871610d8f84463e1d37eff37c7ba44"
  },
  "language_info": {
   "codemirror_mode": {
    "name": "ipython",
    "version": 3
   },
   "file_extension": ".py",
   "mimetype": "text/x-python",
   "name": "python",
   "nbconvert_exporter": "python",
   "pygments_lexer": "ipython3",
   "version": "3.7.12"
  }
 },
 "nbformat": 4,
 "nbformat_minor": 5
}
