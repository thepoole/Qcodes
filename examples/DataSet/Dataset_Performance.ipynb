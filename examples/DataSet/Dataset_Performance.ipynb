{
 "cells": [
  {
   "cell_type": "markdown",
   "metadata": {},
   "source": [
    "# DataSet Performance\n",
    "\n",
    "This notebook shows the trade-off between inserting data into a database row-by-row and as binary blobs. Inserting the data row-by-row means that we have direct access to all the data and may perform queries directly on the values of the data. On the other hand, as we shall see, this is much slower than inserting the data directly as binary blobs."
   ]
  },
  {
   "cell_type": "markdown",
   "metadata": {},
   "source": [
    "First, we choose a new location for the database to ensure that we don't add a bunch of benchmarking data to the default one."
   ]
  },
  {
   "cell_type": "code",
   "execution_count": 1,
   "metadata": {
    "execution": {
     "iopub.execute_input": "2021-11-23T17:47:17.466458Z",
     "iopub.status.busy": "2021-11-23T17:47:17.465903Z",
     "iopub.status.idle": "2021-11-23T17:47:19.279217Z",
     "shell.execute_reply": "2021-11-23T17:47:19.278500Z"
    }
   },
   "outputs": [
    {
     "name": "stdout",
     "output_type": "stream",
     "text": [
      "Logging hadn't been started.\n",
      "Activating auto-logging. Current session state plus future input saved.\n",
      "Filename       : /home/runner/.qcodes/logs/command_history.log\n",
      "Mode           : append\n",
      "Output logging : True\n",
      "Raw input log  : False\n",
      "Timestamping   : True\n",
      "State          : active\n"
     ]
    },
    {
     "name": "stdout",
     "output_type": "stream",
     "text": [
      "Qcodes Logfile : /home/runner/.qcodes/logs/211123-4501-qcodes.log\n"
     ]
    }
   ],
   "source": [
    "import os\n",
    "cwd = os.getcwd()\n",
    "import qcodes as qc\n",
    "qc.config[\"core\"][\"db_location\"] = os.path.join(cwd, 'testing.db')\n"
   ]
  },
  {
   "cell_type": "code",
   "execution_count": 2,
   "metadata": {
    "execution": {
     "iopub.execute_input": "2021-11-23T17:47:19.285964Z",
     "iopub.status.busy": "2021-11-23T17:47:19.285358Z",
     "iopub.status.idle": "2021-11-23T17:47:19.289288Z",
     "shell.execute_reply": "2021-11-23T17:47:19.288820Z"
    }
   },
   "outputs": [],
   "source": [
    "%matplotlib inline\n",
    "import time\n",
    "import matplotlib.pyplot as plt\n",
    "import numpy as np\n",
    "\n",
    "import qcodes as qc\n",
    "from qcodes.instrument.parameter import ManualParameter\n",
    "from qcodes.dataset.experiment_container import (Experiment,\n",
    "                                                 load_last_experiment,\n",
    "                                                 new_experiment)\n",
    "from qcodes.dataset.sqlite.database import initialise_database\n",
    "from qcodes import load_or_create_experiment\n",
    "from qcodes.dataset.measurements import Measurement"
   ]
  },
  {
   "cell_type": "code",
   "execution_count": 3,
   "metadata": {
    "execution": {
     "iopub.execute_input": "2021-11-23T17:47:19.292580Z",
     "iopub.status.busy": "2021-11-23T17:47:19.292052Z",
     "iopub.status.idle": "2021-11-23T17:47:19.362120Z",
     "shell.execute_reply": "2021-11-23T17:47:19.361539Z"
    }
   },
   "outputs": [
    {
     "name": "stdout",
     "output_type": "stream",
     "text": [
      "\r",
      "0it [00:00, ?it/s]"
     ]
    },
    {
     "name": "stdout",
     "output_type": "stream",
     "text": [
      "\r",
      "Upgrading database; v0 -> v1: : 0it [00:00, ?it/s]"
     ]
    },
    {
     "name": "stdout",
     "output_type": "stream",
     "text": [
      "\r",
      "Upgrading database; v0 -> v1: : 0it [00:00, ?it/s]"
     ]
    },
    {
     "name": "stdout",
     "output_type": "stream",
     "text": [
      "\n"
     ]
    },
    {
     "name": "stdout",
     "output_type": "stream",
     "text": [
      "\r",
      "  0%|          | 0/1 [00:00<?, ?it/s]"
     ]
    },
    {
     "name": "stdout",
     "output_type": "stream",
     "text": [
      "\r",
      "Upgrading database; v1 -> v2:   0%|          | 0/1 [00:00<?, ?it/s]"
     ]
    },
    {
     "name": "stdout",
     "output_type": "stream",
     "text": [
      "\r",
      "Upgrading database; v1 -> v2: 100%|██████████| 1/1 [00:00<00:00, 370.33it/s]"
     ]
    },
    {
     "name": "stdout",
     "output_type": "stream",
     "text": [
      "\n"
     ]
    },
    {
     "name": "stdout",
     "output_type": "stream",
     "text": [
      "\r",
      "0it [00:00, ?it/s]"
     ]
    },
    {
     "name": "stdout",
     "output_type": "stream",
     "text": [
      "\r",
      "Upgrading database; v2 -> v3: : 0it [00:00, ?it/s]"
     ]
    },
    {
     "name": "stdout",
     "output_type": "stream",
     "text": [
      "\r",
      "Upgrading database; v2 -> v3: : 0it [00:00, ?it/s]"
     ]
    },
    {
     "name": "stdout",
     "output_type": "stream",
     "text": [
      "\n"
     ]
    },
    {
     "name": "stdout",
     "output_type": "stream",
     "text": [
      "\r",
      "0it [00:00, ?it/s]"
     ]
    },
    {
     "name": "stdout",
     "output_type": "stream",
     "text": [
      "\r",
      "Upgrading database; v3 -> v4: : 0it [00:00, ?it/s]"
     ]
    },
    {
     "name": "stdout",
     "output_type": "stream",
     "text": [
      "\r",
      "Upgrading database; v3 -> v4: : 0it [00:00, ?it/s]"
     ]
    },
    {
     "name": "stdout",
     "output_type": "stream",
     "text": [
      "\n"
     ]
    },
    {
     "name": "stdout",
     "output_type": "stream",
     "text": [
      "\r",
      "  0%|          | 0/1 [00:00<?, ?it/s]"
     ]
    },
    {
     "name": "stdout",
     "output_type": "stream",
     "text": [
      "\r",
      "Upgrading database; v4 -> v5:   0%|          | 0/1 [00:00<?, ?it/s]"
     ]
    },
    {
     "name": "stdout",
     "output_type": "stream",
     "text": [
      "\r",
      "Upgrading database; v4 -> v5: 100%|██████████| 1/1 [00:00<00:00, 723.16it/s]"
     ]
    },
    {
     "name": "stdout",
     "output_type": "stream",
     "text": [
      "\n"
     ]
    },
    {
     "name": "stdout",
     "output_type": "stream",
     "text": [
      "\r",
      "0it [00:00, ?it/s]"
     ]
    },
    {
     "name": "stdout",
     "output_type": "stream",
     "text": [
      "\r",
      "Upgrading database; v5 -> v6: : 0it [00:00, ?it/s]"
     ]
    },
    {
     "name": "stdout",
     "output_type": "stream",
     "text": [
      "\r",
      "Upgrading database; v5 -> v6: : 0it [00:00, ?it/s]"
     ]
    },
    {
     "name": "stdout",
     "output_type": "stream",
     "text": [
      "\n"
     ]
    },
    {
     "name": "stdout",
     "output_type": "stream",
     "text": [
      "\r",
      "  0%|          | 0/1 [00:00<?, ?it/s]"
     ]
    },
    {
     "name": "stdout",
     "output_type": "stream",
     "text": [
      "\r",
      "Upgrading database; v6 -> v7:   0%|          | 0/1 [00:00<?, ?it/s]"
     ]
    },
    {
     "name": "stdout",
     "output_type": "stream",
     "text": [
      "\r",
      "Upgrading database; v6 -> v7: 100%|██████████| 1/1 [00:00<00:00, 419.72it/s]"
     ]
    },
    {
     "name": "stdout",
     "output_type": "stream",
     "text": [
      "\n"
     ]
    },
    {
     "name": "stdout",
     "output_type": "stream",
     "text": [
      "\r",
      "  0%|          | 0/1 [00:00<?, ?it/s]"
     ]
    },
    {
     "name": "stdout",
     "output_type": "stream",
     "text": [
      "\r",
      "Upgrading database; v7 -> v8:   0%|          | 0/1 [00:00<?, ?it/s]"
     ]
    },
    {
     "name": "stdout",
     "output_type": "stream",
     "text": [
      "\r",
      "Upgrading database; v7 -> v8: 100%|██████████| 1/1 [00:00<00:00, 388.00it/s]"
     ]
    },
    {
     "name": "stdout",
     "output_type": "stream",
     "text": [
      "\n"
     ]
    },
    {
     "name": "stdout",
     "output_type": "stream",
     "text": [
      "\r",
      "  0%|          | 0/1 [00:00<?, ?it/s]"
     ]
    },
    {
     "name": "stdout",
     "output_type": "stream",
     "text": [
      "\r",
      "Upgrading database; v8 -> v9:   0%|          | 0/1 [00:00<?, ?it/s]"
     ]
    },
    {
     "name": "stdout",
     "output_type": "stream",
     "text": [
      "\r",
      "Upgrading database; v8 -> v9: 100%|██████████| 1/1 [00:00<00:00, 1385.17it/s]"
     ]
    },
    {
     "name": "stdout",
     "output_type": "stream",
     "text": [
      "\n"
     ]
    }
   ],
   "source": [
    "initialise_database()\n",
    "exp = load_or_create_experiment(experiment_name='tutorial_exp', sample_name=\"no sample\")"
   ]
  },
  {
   "cell_type": "markdown",
   "metadata": {},
   "source": [
    "Here, we define a simple function to benchmark the time it takes to insert n points with either numeric or array data type.\n",
    "We will compare both the time used to call ``add_result`` and the time used for the full measurement."
   ]
  },
  {
   "cell_type": "code",
   "execution_count": 4,
   "metadata": {
    "execution": {
     "iopub.execute_input": "2021-11-23T17:47:19.369201Z",
     "iopub.status.busy": "2021-11-23T17:47:19.367588Z",
     "iopub.status.idle": "2021-11-23T17:47:19.371379Z",
     "shell.execute_reply": "2021-11-23T17:47:19.370965Z"
    }
   },
   "outputs": [],
   "source": [
    "def insert_data(paramtype, npoints, nreps=1):\n",
    "\n",
    "    meas = Measurement(exp=exp)\n",
    "\n",
    "    x1 = ManualParameter('x1')\n",
    "    x2 = ManualParameter('x2')\n",
    "    x3 = ManualParameter('x3')\n",
    "    y1 = ManualParameter('y1')\n",
    "    y2 = ManualParameter('y2')\n",
    "\n",
    "    meas.register_parameter(x1, paramtype=paramtype)\n",
    "    meas.register_parameter(x2, paramtype=paramtype)\n",
    "    meas.register_parameter(x3, paramtype=paramtype)\n",
    "    meas.register_parameter(y1, setpoints=[x1, x2, x3],\n",
    "                            paramtype=paramtype)\n",
    "    meas.register_parameter(y2, setpoints=[x1, x2, x3],\n",
    "                            paramtype=paramtype)\n",
    "    start = time.perf_counter()\n",
    "    with meas.run() as datasaver:\n",
    "        start_adding = time.perf_counter()\n",
    "        for i in range(nreps):\n",
    "            datasaver.add_result((x1, np.random.rand(npoints)),\n",
    "                                 (x2, np.random.rand(npoints)),\n",
    "                                 (x3, np.random.rand(npoints)),\n",
    "                                 (y1, np.random.rand(npoints)),\n",
    "                                 (y2, np.random.rand(npoints)))\n",
    "        stop_adding = time.perf_counter()\n",
    "        run_id = datasaver.run_id\n",
    "    stop = time.perf_counter()\n",
    "    tot_time = stop - start\n",
    "    add_time = stop_adding - start_adding\n",
    "    return tot_time, add_time, run_id"
   ]
  },
  {
   "cell_type": "markdown",
   "metadata": {},
   "source": [
    "## Comparison between numeric/array data and binary blob"
   ]
  },
  {
   "cell_type": "markdown",
   "metadata": {},
   "source": [
    "### Case1: Short experiment time"
   ]
  },
  {
   "cell_type": "code",
   "execution_count": 5,
   "metadata": {
    "execution": {
     "iopub.execute_input": "2021-11-23T17:47:19.376021Z",
     "iopub.status.busy": "2021-11-23T17:47:19.375551Z",
     "iopub.status.idle": "2021-11-23T17:47:20.083118Z",
     "shell.execute_reply": "2021-11-23T17:47:20.083583Z"
    }
   },
   "outputs": [
    {
     "name": "stdout",
     "output_type": "stream",
     "text": [
      "Starting experimental run with id: 1. \n",
      "Starting experimental run with id: 2. \n",
      "Starting experimental run with id: 3. \n",
      "Starting experimental run with id: 4. \n",
      "Starting experimental run with id: 5. \n"
     ]
    },
    {
     "name": "stdout",
     "output_type": "stream",
     "text": [
      "Starting experimental run with id: 6. "
     ]
    },
    {
     "name": "stdout",
     "output_type": "stream",
     "text": [
      "\n"
     ]
    },
    {
     "name": "stdout",
     "output_type": "stream",
     "text": [
      "Starting experimental run with id: 7. \n"
     ]
    },
    {
     "name": "stdout",
     "output_type": "stream",
     "text": [
      "Starting experimental run with id: 8. \n"
     ]
    },
    {
     "name": "stdout",
     "output_type": "stream",
     "text": [
      "Starting experimental run with id: 9. \n"
     ]
    },
    {
     "name": "stdout",
     "output_type": "stream",
     "text": [
      "Starting experimental run with id: 10. \n",
      "Starting experimental run with id: 11. \n"
     ]
    },
    {
     "name": "stdout",
     "output_type": "stream",
     "text": [
      "Starting experimental run with id: 12. \n",
      "Starting experimental run with id: 13. \n"
     ]
    },
    {
     "name": "stdout",
     "output_type": "stream",
     "text": [
      "Starting experimental run with id: 14. \n"
     ]
    }
   ],
   "source": [
    "sizes = [1,500,1000,2000,3000,4000,5000]\n",
    "t_numeric = []\n",
    "t_numeric_add = []\n",
    "t_array = []\n",
    "t_array_add = []\n",
    "for size in sizes:\n",
    "    tn, tna, run_id_n =  insert_data('numeric', size)\n",
    "    t_numeric.append(tn)\n",
    "    t_numeric_add.append(tna)\n",
    "\n",
    "    ta, taa, run_id_a =  insert_data('array', size)\n",
    "    t_array.append(ta)\n",
    "    t_array_add.append(taa)"
   ]
  },
  {
   "cell_type": "code",
   "execution_count": 6,
   "metadata": {
    "execution": {
     "iopub.execute_input": "2021-11-23T17:47:20.093292Z",
     "iopub.status.busy": "2021-11-23T17:47:20.092861Z",
     "iopub.status.idle": "2021-11-23T17:47:20.289026Z",
     "shell.execute_reply": "2021-11-23T17:47:20.289593Z"
    }
   },
   "outputs": [
    {
     "data": {
      "image/png": "[encoded data removed]",
      "text/plain": [
       "<Figure size 432x288 with 1 Axes>"
      ]
     },
     "metadata": {
      "needs_background": "light"
     },
     "output_type": "display_data"
    }
   ],
   "source": [
    "fig, ax = plt.subplots(1,1)\n",
    "ax.plot(sizes, t_numeric, 'o-', label='Inserting row-by-row')\n",
    "ax.plot(sizes, t_numeric_add, 'o-', label='Inserting row-by-row: add_result only')\n",
    "ax.plot(sizes, t_array, 'd-', label='Inserting as binary blob')\n",
    "ax.plot(sizes, t_array_add, 'd-', label='Inserting as binary blob: add_result only')\n",
    "ax.legend()\n",
    "ax.set_xlabel('Array length')\n",
    "ax.set_ylabel('Time (s)')\n",
    "fig.tight_layout()"
   ]
  },
  {
   "cell_type": "markdown",
   "metadata": {},
   "source": [
    "As shown in the latter figure, the time to setup and and close the experiment is approximately 0.4 sec. In case of small array sizes, the difference between inserting values of data as arrays and inserting them row-by-row is relatively unimportant. At larger array sizes, i.e. above 10000 points, the cost of writing data as individual datapoints starts to become important.\n"
   ]
  },
  {
   "cell_type": "markdown",
   "metadata": {},
   "source": [
    "### Case2: Long experiment time "
   ]
  },
  {
   "cell_type": "code",
   "execution_count": 7,
   "metadata": {
    "execution": {
     "iopub.execute_input": "2021-11-23T17:47:20.296654Z",
     "iopub.status.busy": "2021-11-23T17:47:20.296088Z",
     "iopub.status.idle": "2021-11-23T17:48:12.491856Z",
     "shell.execute_reply": "2021-11-23T17:48:12.491151Z"
    }
   },
   "outputs": [
    {
     "name": "stdout",
     "output_type": "stream",
     "text": [
      "Starting experimental run with id: 15. \n",
      "Starting experimental run with id: 16. \n",
      "Starting experimental run with id: 17. \n"
     ]
    },
    {
     "name": "stdout",
     "output_type": "stream",
     "text": [
      "Starting experimental run with id: 18. \n",
      "Starting experimental run with id: 19. \n"
     ]
    },
    {
     "name": "stdout",
     "output_type": "stream",
     "text": [
      "Starting experimental run with id: 20. \n",
      "Starting experimental run with id: 21. \n"
     ]
    },
    {
     "name": "stdout",
     "output_type": "stream",
     "text": [
      "Starting experimental run with id: 22. \n"
     ]
    },
    {
     "name": "stdout",
     "output_type": "stream",
     "text": [
      "Starting experimental run with id: 23. \n"
     ]
    },
    {
     "name": "stdout",
     "output_type": "stream",
     "text": [
      "Starting experimental run with id: 24. \n"
     ]
    },
    {
     "name": "stdout",
     "output_type": "stream",
     "text": [
      "Starting experimental run with id: 25. \n"
     ]
    },
    {
     "name": "stdout",
     "output_type": "stream",
     "text": [
      "Starting experimental run with id: 26. \n"
     ]
    },
    {
     "name": "stdout",
     "output_type": "stream",
     "text": [
      "Starting experimental run with id: 27. \n"
     ]
    },
    {
     "name": "stdout",
     "output_type": "stream",
     "text": [
      "Starting experimental run with id: 28. \n"
     ]
    }
   ],
   "source": [
    "sizes = [1,500,1000,2000,3000,4000,5000]\n",
    "nreps = 100\n",
    "t_numeric = []\n",
    "t_numeric_add = []\n",
    "t_numeric_run_ids = []\n",
    "t_array = []\n",
    "t_array_add = []\n",
    "t_array_run_ids = []\n",
    "for size in sizes:\n",
    "    tn, tna, run_id_n =  insert_data('numeric', size, nreps=nreps)\n",
    "    t_numeric.append(tn)\n",
    "    t_numeric_add.append(tna)\n",
    "    t_numeric_run_ids.append(run_id_n)\n",
    "\n",
    "    ta, taa, run_id_a =  insert_data('array', size, nreps=nreps)\n",
    "    t_array.append(ta)\n",
    "    t_array_add.append(taa)\n",
    "    t_array_run_ids.append(run_id_a)"
   ]
  },
  {
   "cell_type": "code",
   "execution_count": 8,
   "metadata": {
    "execution": {
     "iopub.execute_input": "2021-11-23T17:48:12.511008Z",
     "iopub.status.busy": "2021-11-23T17:48:12.509147Z",
     "iopub.status.idle": "2021-11-23T17:48:12.668689Z",
     "shell.execute_reply": "2021-11-23T17:48:12.669170Z"
    },
    "scrolled": true
   },
   "outputs": [
    {
     "data": {
      "image/png": "[encoded data removed]",
      "text/plain": [
       "<Figure size 432x288 with 1 Axes>"
      ]
     },
     "metadata": {
      "needs_background": "light"
     },
     "output_type": "display_data"
    }
   ],
   "source": [
    "fig, ax = plt.subplots(1,1)\n",
    "ax.plot(sizes, t_numeric, 'o-', label='Inserting row-by-row')\n",
    "ax.plot(sizes, t_numeric_add, 'o-', label='Inserting row-by-row: add_result only')\n",
    "ax.plot(sizes, t_array, 'd-', label='Inserting as binary blob')\n",
    "ax.plot(sizes, t_array_add, 'd-', label='Inserting as binary blob: add_result only')\n",
    "ax.legend()\n",
    "ax.set_xlabel('Array length')\n",
    "ax.set_ylabel('Time (s)')\n",
    "fig.tight_layout()"
   ]
  },
  {
   "cell_type": "markdown",
   "metadata": {},
   "source": [
    "However, as we increase the length of the experiment, as seen here by repeating the insertion 100 times, we see a big difference between inserting values of the data row-by-row and inserting it as a binary blob."
   ]
  },
  {
   "cell_type": "markdown",
   "metadata": {},
   "source": [
    "## Loading the data "
   ]
  },
  {
   "cell_type": "code",
   "execution_count": 9,
   "metadata": {
    "execution": {
     "iopub.execute_input": "2021-11-23T17:48:12.672043Z",
     "iopub.status.busy": "2021-11-23T17:48:12.671499Z",
     "iopub.status.idle": "2021-11-23T17:48:12.674619Z",
     "shell.execute_reply": "2021-11-23T17:48:12.675124Z"
    }
   },
   "outputs": [],
   "source": [
    "from qcodes.dataset.data_set import load_by_id"
   ]
  },
  {
   "cell_type": "markdown",
   "metadata": {},
   "source": [
    "As usual you can load the data by using the ``load_by_id`` function but you will notice that the different storage methods\n",
    "are reflected in shape of the data as it is retrieved. "
   ]
  },
  {
   "cell_type": "code",
   "execution_count": 10,
   "metadata": {
    "execution": {
     "iopub.execute_input": "2021-11-23T17:48:12.678929Z",
     "iopub.status.busy": "2021-11-23T17:48:12.678378Z",
     "iopub.status.idle": "2021-11-23T17:48:12.679870Z",
     "shell.execute_reply": "2021-11-23T17:48:12.680386Z"
    }
   },
   "outputs": [],
   "source": [
    "run_id_n = t_numeric_run_ids[0]\n",
    "run_id_a = t_array_run_ids[0]"
   ]
  },
  {
   "cell_type": "code",
   "execution_count": 11,
   "metadata": {
    "execution": {
     "iopub.execute_input": "2021-11-23T17:48:12.684015Z",
     "iopub.status.busy": "2021-11-23T17:48:12.683462Z",
     "iopub.status.idle": "2021-11-23T17:48:12.692954Z",
     "shell.execute_reply": "2021-11-23T17:48:12.693429Z"
    },
    "scrolled": true
   },
   "outputs": [
    {
     "data": {
      "text/plain": [
       "{'x1': {'x1': array([0.3946852 , 0.3946852 , 0.55708314, 0.55708314, 0.76354663,\n",
       "         0.76354663, 0.10421736, 0.10421736, 0.76707269, 0.76707269,\n",
       "         0.07319719, 0.07319719, 0.2204362 , 0.2204362 , 0.04454209,\n",
       "         0.04454209, 0.978956  , 0.978956  , 0.72213044, 0.72213044,\n",
       "         0.2602348 , 0.2602348 , 0.37182818, 0.37182818, 0.32274046,\n",
       "         0.32274046, 0.29959984, 0.29959984, 0.30843934, 0.30843934,\n",
       "         0.45995416, 0.45995416, 0.31221569, 0.31221569, 0.37141337,\n",
       "         0.37141337, 0.38365793, 0.38365793, 0.56768925, 0.56768925,\n",
       "         0.43956256, 0.43956256, 0.97512382, 0.97512382, 0.58023652,\n",
       "         0.58023652, 0.48416763, 0.48416763, 0.00414615, 0.00414615,\n",
       "         0.95541441, 0.95541441, 0.89336394, 0.89336394, 0.982221  ,\n",
       "         0.982221  , 0.46185303, 0.46185303, 0.71338451, 0.71338451,\n",
       "         0.85799514, 0.85799514, 0.11203837, 0.11203837, 0.63888413,\n",
       "         0.63888413, 0.51990223, 0.51990223, 0.60816846, 0.60816846,\n",
       "         0.25297951, 0.25297951, 0.42056821, 0.42056821, 0.17578206,\n",
       "         0.17578206, 0.31588215, 0.31588215, 0.58267161, 0.58267161,\n",
       "         0.80028526, 0.80028526, 0.77688947, 0.77688947, 0.88873902,\n",
       "         0.88873902, 0.99546112, 0.99546112, 0.66741235, 0.66741235,\n",
       "         0.97442454, 0.97442454, 0.47883345, 0.47883345, 0.76672698,\n",
       "         0.76672698, 0.45088937, 0.45088937, 0.12882348, 0.12882348,\n",
       "         0.91015655, 0.91015655, 0.54810903, 0.54810903, 0.58071445,\n",
       "         0.58071445, 0.1397287 , 0.1397287 , 0.51879812, 0.51879812,\n",
       "         0.65105455, 0.65105455, 0.77213935, 0.77213935, 0.91459946,\n",
       "         0.91459946, 0.12054264, 0.12054264, 0.6015018 , 0.6015018 ,\n",
       "         0.97163555, 0.97163555, 0.36462931, 0.36462931, 0.8052038 ,\n",
       "         0.8052038 , 0.12980572, 0.12980572, 0.57257558, 0.57257558,\n",
       "         0.50527628, 0.50527628, 0.17206283, 0.17206283, 0.75664048,\n",
       "         0.75664048, 0.02553389, 0.02553389, 0.53202188, 0.53202188,\n",
       "         0.79847316, 0.79847316, 0.24853823, 0.24853823, 0.28418644,\n",
       "         0.28418644, 0.38624538, 0.38624538, 0.11540243, 0.11540243,\n",
       "         0.5444141 , 0.5444141 , 0.57091089, 0.57091089, 0.5261662 ,\n",
       "         0.5261662 , 0.9398864 , 0.9398864 , 0.41290475, 0.41290475,\n",
       "         0.03042556, 0.03042556, 0.2800514 , 0.2800514 , 0.71067185,\n",
       "         0.71067185, 0.6437556 , 0.6437556 , 0.70070473, 0.70070473,\n",
       "         0.13077425, 0.13077425, 0.21815456, 0.21815456, 0.33682563,\n",
       "         0.33682563, 0.35112753, 0.35112753, 0.00849076, 0.00849076,\n",
       "         0.0787217 , 0.0787217 , 0.18081734, 0.18081734, 0.36901868,\n",
       "         0.36901868, 0.51068271, 0.51068271, 0.2328408 , 0.2328408 ,\n",
       "         0.76592263, 0.76592263, 0.26515457, 0.26515457, 0.51635261,\n",
       "         0.51635261, 0.63019343, 0.63019343, 0.17039093, 0.17039093])}}"
      ]
     },
     "execution_count": 11,
     "metadata": {},
     "output_type": "execute_result"
    }
   ],
   "source": [
    "ds = load_by_id(run_id_n)\n",
    "ds.get_parameter_data('x1')"
   ]
  },
  {
   "cell_type": "markdown",
   "metadata": {},
   "source": [
    "And a dataset stored as binary arrays"
   ]
  },
  {
   "cell_type": "code",
   "execution_count": 12,
   "metadata": {
    "execution": {
     "iopub.execute_input": "2021-11-23T17:48:12.697150Z",
     "iopub.status.busy": "2021-11-23T17:48:12.696587Z",
     "iopub.status.idle": "2021-11-23T17:48:12.749022Z",
     "shell.execute_reply": "2021-11-23T17:48:12.749469Z"
    },
    "scrolled": true
   },
   "outputs": [
    {
     "data": {
      "text/plain": [
       "{'x1': {'x1': array([[0.08721778],\n",
       "         [0.08721778],\n",
       "         [0.58990465],\n",
       "         [0.58990465],\n",
       "         [0.12368332],\n",
       "         [0.12368332],\n",
       "         [0.40446487],\n",
       "         [0.40446487],\n",
       "         [0.95329395],\n",
       "         [0.95329395],\n",
       "         [0.48412777],\n",
       "         [0.48412777],\n",
       "         [0.5846159 ],\n",
       "         [0.5846159 ],\n",
       "         [0.21053742],\n",
       "         [0.21053742],\n",
       "         [0.04104047],\n",
       "         [0.04104047],\n",
       "         [0.57791385],\n",
       "         [0.57791385],\n",
       "         [0.61916103],\n",
       "         [0.61916103],\n",
       "         [0.35721352],\n",
       "         [0.35721352],\n",
       "         [0.57475215],\n",
       "         [0.57475215],\n",
       "         [0.96229009],\n",
       "         [0.96229009],\n",
       "         [0.79315052],\n",
       "         [0.79315052],\n",
       "         [0.16562699],\n",
       "         [0.16562699],\n",
       "         [0.4848656 ],\n",
       "         [0.4848656 ],\n",
       "         [0.24366231],\n",
       "         [0.24366231],\n",
       "         [0.51100526],\n",
       "         [0.51100526],\n",
       "         [0.21739862],\n",
       "         [0.21739862],\n",
       "         [0.82962919],\n",
       "         [0.82962919],\n",
       "         [0.70342096],\n",
       "         [0.70342096],\n",
       "         [0.25793357],\n",
       "         [0.25793357],\n",
       "         [0.95598904],\n",
       "         [0.95598904],\n",
       "         [0.62087451],\n",
       "         [0.62087451],\n",
       "         [0.65267531],\n",
       "         [0.65267531],\n",
       "         [0.13849804],\n",
       "         [0.13849804],\n",
       "         [0.79521343],\n",
       "         [0.79521343],\n",
       "         [0.32795043],\n",
       "         [0.32795043],\n",
       "         [0.20442104],\n",
       "         [0.20442104],\n",
       "         [0.68177845],\n",
       "         [0.68177845],\n",
       "         [0.20726864],\n",
       "         [0.20726864],\n",
       "         [0.62647494],\n",
       "         [0.62647494],\n",
       "         [0.83790825],\n",
       "         [0.83790825],\n",
       "         [0.40682375],\n",
       "         [0.40682375],\n",
       "         [0.36169141],\n",
       "         [0.36169141],\n",
       "         [0.60269304],\n",
       "         [0.60269304],\n",
       "         [0.8148893 ],\n",
       "         [0.8148893 ],\n",
       "         [0.83965237],\n",
       "         [0.83965237],\n",
       "         [0.39113089],\n",
       "         [0.39113089],\n",
       "         [0.61703202],\n",
       "         [0.61703202],\n",
       "         [0.16478934],\n",
       "         [0.16478934],\n",
       "         [0.00518255],\n",
       "         [0.00518255],\n",
       "         [0.32312743],\n",
       "         [0.32312743],\n",
       "         [0.78173646],\n",
       "         [0.78173646],\n",
       "         [0.33867083],\n",
       "         [0.33867083],\n",
       "         [0.48861772],\n",
       "         [0.48861772],\n",
       "         [0.31462618],\n",
       "         [0.31462618],\n",
       "         [0.49255577],\n",
       "         [0.49255577],\n",
       "         [0.78778496],\n",
       "         [0.78778496],\n",
       "         [0.97776429],\n",
       "         [0.97776429],\n",
       "         [0.36163066],\n",
       "         [0.36163066],\n",
       "         [0.99375402],\n",
       "         [0.99375402],\n",
       "         [0.22900369],\n",
       "         [0.22900369],\n",
       "         [0.95273971],\n",
       "         [0.95273971],\n",
       "         [0.80124215],\n",
       "         [0.80124215],\n",
       "         [0.52065267],\n",
       "         [0.52065267],\n",
       "         [0.09145208],\n",
       "         [0.09145208],\n",
       "         [0.30603984],\n",
       "         [0.30603984],\n",
       "         [0.27644672],\n",
       "         [0.27644672],\n",
       "         [0.43390149],\n",
       "         [0.43390149],\n",
       "         [0.88801279],\n",
       "         [0.88801279],\n",
       "         [0.72389435],\n",
       "         [0.72389435],\n",
       "         [0.64270167],\n",
       "         [0.64270167],\n",
       "         [0.01848084],\n",
       "         [0.01848084],\n",
       "         [0.09138677],\n",
       "         [0.09138677],\n",
       "         [0.49109267],\n",
       "         [0.49109267],\n",
       "         [0.43209353],\n",
       "         [0.43209353],\n",
       "         [0.29593569],\n",
       "         [0.29593569],\n",
       "         [0.957959  ],\n",
       "         [0.957959  ],\n",
       "         [0.97416812],\n",
       "         [0.97416812],\n",
       "         [0.57562188],\n",
       "         [0.57562188],\n",
       "         [0.03309854],\n",
       "         [0.03309854],\n",
       "         [0.76060901],\n",
       "         [0.76060901],\n",
       "         [0.99738724],\n",
       "         [0.99738724],\n",
       "         [0.94351454],\n",
       "         [0.94351454],\n",
       "         [0.67628626],\n",
       "         [0.67628626],\n",
       "         [0.62856182],\n",
       "         [0.62856182],\n",
       "         [0.77539589],\n",
       "         [0.77539589],\n",
       "         [0.96320504],\n",
       "         [0.96320504],\n",
       "         [0.70306425],\n",
       "         [0.70306425],\n",
       "         [0.16041967],\n",
       "         [0.16041967],\n",
       "         [0.43706417],\n",
       "         [0.43706417],\n",
       "         [0.11672145],\n",
       "         [0.11672145],\n",
       "         [0.41392201],\n",
       "         [0.41392201],\n",
       "         [0.46233659],\n",
       "         [0.46233659],\n",
       "         [0.34721366],\n",
       "         [0.34721366],\n",
       "         [0.19108376],\n",
       "         [0.19108376],\n",
       "         [0.89452172],\n",
       "         [0.89452172],\n",
       "         [0.51094168],\n",
       "         [0.51094168],\n",
       "         [0.57290416],\n",
       "         [0.57290416],\n",
       "         [0.08399254],\n",
       "         [0.08399254],\n",
       "         [0.92021139],\n",
       "         [0.92021139],\n",
       "         [0.023929  ],\n",
       "         [0.023929  ],\n",
       "         [0.65646943],\n",
       "         [0.65646943],\n",
       "         [0.36006211],\n",
       "         [0.36006211],\n",
       "         [0.04760288],\n",
       "         [0.04760288],\n",
       "         [0.36798427],\n",
       "         [0.36798427],\n",
       "         [0.23102516],\n",
       "         [0.23102516],\n",
       "         [0.93170398],\n",
       "         [0.93170398]])}}"
      ]
     },
     "execution_count": 12,
     "metadata": {},
     "output_type": "execute_result"
    }
   ],
   "source": [
    "ds = load_by_id(run_id_a)\n",
    "ds.get_parameter_data('x1')"
   ]
  },
  {
   "cell_type": "code",
   "execution_count": null,
   "metadata": {},
   "outputs": [],
   "source": []
  }
 ],
 "metadata": {
  "kernelspec": {
   "display_name": "Python 3",
   "language": "python",
   "name": "python3"
  },
  "language_info": {
   "codemirror_mode": {
    "name": "ipython",
    "version": 3
   },
   "file_extension": ".py",
   "mimetype": "text/x-python",
   "name": "python",
   "nbconvert_exporter": "python",
   "pygments_lexer": "ipython3",
   "version": "3.7.12"
  },
  "nbsphinx": {
   "timeout": 600
  },
  "toc": {
   "base_numbering": 1,
   "nav_menu": {},
   "number_sections": true,
   "sideBar": true,
   "skip_h1_title": false,
   "title_cell": "Table of Contents",
   "title_sidebar": "Contents",
   "toc_cell": false,
   "toc_position": {},
   "toc_section_display": true,
   "toc_window_display": false
  },
  "varInspector": {
   "cols": {
    "lenName": 16,
    "lenType": 16,
    "lenVar": 40
   },
   "kernels_config": {
    "python": {
     "delete_cmd_postfix": "",
     "delete_cmd_prefix": "del ",
     "library": "var_list.py",
     "varRefreshCmd": "print(var_dic_list())"
    },
    "r": {
     "delete_cmd_postfix": ") ",
     "delete_cmd_prefix": "rm(",
     "library": "var_list.r",
     "varRefreshCmd": "cat(var_dic_list()) "
    }
   },
   "types_to_exclude": [
    "module",
    "function",
    "builtin_function_or_method",
    "instance",
    "_Feature"
   ],
   "window_display": false
  }
 },
 "nbformat": 4,
 "nbformat_minor": 4
}
